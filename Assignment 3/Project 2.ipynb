{
 "cells": [
  {
   "cell_type": "code",
   "execution_count": 6,
   "metadata": {},
   "outputs": [
    {
     "data": {
      "image/png": "[encoded data removed]",
      "text/plain": [
       "<matplotlib.figure.Figure at 0x1c703cbd048>"
      ]
     },
     "metadata": {},
     "output_type": "display_data"
    }
   ],
   "source": [
    "import matplotlib.pyplot as plt\n",
    "import pandas as pd\n",
    "\n",
    "data = open('C:/Users/Peter/Desktop/Assignment 3/Project 2/Data.csv','r')\n",
    "B_V = pd.read_csv(filepath_or_buffer = 'C:/Users/Peter/Desktop/Assignment 3/Project 2/Data.csv',sep =',')['B-V'].values\n",
    "U_B = pd.read_csv(filepath_or_buffer = 'C:/Users/Peter/Desktop/Assignment 3/Project 2/Data.csv',sep =',')['U-B'].values\n",
    "Fraction = pd.read_csv(filepath_or_buffer = 'C:/Users/Peter/Desktop/Assignment 3/Project 2/Data.csv',sep =',')['Fraction(%)'].values\n",
    "\n",
    "# phase 1\n",
    "phase1B_V = sum(B_V * Fraction)/sum(Fraction)\n",
    "phase1U_B = sum(U_B * Fraction)/sum(Fraction)\n",
    "\n",
    "# phase 2\n",
    "B_V = B_V[1:]\n",
    "U_B = U_B[1:]\n",
    "Fraction = Fraction[1:]\n",
    "phase2B_V = sum(B_V * Fraction)/sum(Fraction)\n",
    "phase2U_B = sum(U_B * Fraction)/sum(Fraction)\n",
    "\n",
    "# phase 3\n",
    "B_V = B_V[1:]\n",
    "U_B = U_B[1:]\n",
    "Fraction = Fraction[1:]\n",
    "phase3B_V = sum(B_V * Fraction)/sum(Fraction)\n",
    "phase3U_B = sum(U_B * Fraction)/sum(Fraction)\n",
    "\n",
    "# phase 4\n",
    "B_V = B_V[1:]\n",
    "U_B = U_B[1:]\n",
    "Fraction = Fraction[1:]\n",
    "phase4B_V = sum(B_V * Fraction)/sum(Fraction)\n",
    "phase4U_B = sum(U_B * Fraction)/sum(Fraction)\n",
    "\n",
    "# phase 5\n",
    "B_V = B_V[1:]\n",
    "U_B = U_B[1:]\n",
    "Fraction = Fraction[1:]\n",
    "phase5B_V = sum(B_V * Fraction)/sum(Fraction)\n",
    "phase5U_B = sum(U_B * Fraction)/sum(Fraction)\n",
    "\n",
    "# phase 6\n",
    "B_V = B_V[1:]\n",
    "U_B = U_B[1:]\n",
    "Fraction = Fraction[1:]\n",
    "phase6B_V = sum(B_V * Fraction)/sum(Fraction)\n",
    "phase6U_B = sum(U_B * Fraction)/sum(Fraction)\n",
    "\n",
    "# phase 7\n",
    "B_V = B_V[1:]\n",
    "U_B = U_B[1:]\n",
    "Fraction = Fraction[1:]\n",
    "phase7B_V = sum(B_V * Fraction)/sum(Fraction)\n",
    "phase7U_B = sum(U_B * Fraction)/sum(Fraction)\n",
    "\n",
    "b_v = [phase1B_V,phase2B_V,phase3B_V,phase4B_V,phase5B_V,phase6B_V,phase7B_V]\n",
    "u_b = [phase1U_B,phase2U_B,phase3U_B,phase4U_B,phase5U_B,phase6U_B,phase7U_B]\n",
    "\n",
    "plt.figure(figsize=(12,8))\n",
    "plt.plot(b_v,u_b,'ko',ms=3)\n",
    "plt.xlabel('B-V')\n",
    "plt.ylabel('U-B')\n",
    "plt.title('SSP')\n",
    "plt.show()"
   ]
  }
 ],
 "metadata": {
  "kernelspec": {
   "display_name": "Python 3",
   "language": "python",
   "name": "python3"
  },
  "language_info": {
   "codemirror_mode": {
    "name": "ipython",
    "version": 3
   },
   "file_extension": ".py",
   "mimetype": "text/x-python",
   "name": "python",
   "nbconvert_exporter": "python",
   "pygments_lexer": "ipython3",
   "version": "3.6.2"
  }
 },
 "nbformat": 4,
 "nbformat_minor": 2
}
